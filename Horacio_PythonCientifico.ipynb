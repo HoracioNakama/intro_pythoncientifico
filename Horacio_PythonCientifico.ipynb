{
 "cells": [
  {
   "cell_type": "markdown",
   "metadata": {
    "nbpresent": {
     "id": "ec1d7259-be51-4076-976f-706512039b24"
    }
   },
   "source": [
    "# <center> Python Cientifico </center>"
   ]
  },
  {
   "cell_type": "markdown",
   "metadata": {
    "nbpresent": {
     "id": "9d691db8-ff80-4ffe-b48a-8227d6aed1b5"
    }
   },
   "source": [
    "## Me presento:\n",
    "# Horacio Francisco Mayo\n",
    "## oldoger@gmail.com\n",
    "## Estudiante avanzado de la carrera de Ingeniería Agronomica\n",
    "## Investigador de la Cátedra de Agroclimatología de la FCA-UNJu\n",
    "## @HoracioNakama (Telegram, Twitter, Instagram)"
   ]
  },
  {
   "cell_type": "markdown",
   "metadata": {
    "nbpresent": {
     "id": "3a7dda7b-0826-42c2-8f55-138597db0b77"
    }
   },
   "source": [
    "# <center> Aspectos a tener en cuenta </center>\n",
    "1. Permitido interrumpir para preguntar algo\n",
    "2. No abordaremos solo temas de programación, sino también relacionado al ambiente científico\n",
    "3. Dónde dice RESUMIENDO: es una resumen que puede alejarse de la definición completa pero es una explicación muy simplificada"
   ]
  },
  {
   "cell_type": "markdown",
   "metadata": {
    "nbpresent": {
     "id": "017d076f-3adc-472f-a9c0-096fcd72140f"
    }
   },
   "source": [
    "# Temario\n",
    "1. Pydata. Python Científico. Scipy\n",
    "2. Librerías Core (Nucleo)\n",
    " * Numpy, Jupyter/Ipython, Matplotlib, Scipy, Pandas\n",
    "3. Librerías Específicas\n",
    " * Visualización, Machine Learning, Natural Lenguaje Processing\n",
    " * Image Processing, Deep Learning, Otros\n",
    "4. ¿Cómo empezar a programar siendo Científicos?\n",
    " * ¿Qué tengo que instalar primero?\n",
    " * Citar trabajos\n",
    " * ¿Trabajo solo o en equipo?\n",
    " * ¿Dónde encuentro información? ¿O datos?\n",
    " * ¿Cómo pensar como programador?"
   ]
  },
  {
   "cell_type": "markdown",
   "metadata": {
    "nbpresent": {
     "id": "5c353d26-6999-4a14-8f0d-9df3612cea65"
    }
   },
   "source": [
    "# Pydata. Scipy\n",
    "\n",
    "Similares pero distintos. En comun: pueden ver videos en Youtube, Conferencias en todo el mundo"
   ]
  },
  {
   "cell_type": "markdown",
   "metadata": {
    "nbpresent": {
     "id": "2b9677f0-bdba-45c7-8007-de1433fd680c"
    }
   },
   "source": [
    "### Pydata\n",
    "Muy orientado a la programación.\n",
    "\n",
    "No se realiza en Latinoamerica PERO... Noviembre 2017. PYDATA SAN LUIS 2017."
   ]
  },
  {
   "cell_type": "markdown",
   "metadata": {
    "nbpresent": {
     "id": "e74c4e10-9573-4474-8fc9-2486993e47f3"
    }
   },
   "source": [
    "### Scipy\n",
    "Muy orientado a lo científico\n",
    "\n",
    "Se realiza en Latinoamerica. Argentina, 2015. San Pablo, Brasil 2016. La Habana, Cuba 2017."
   ]
  },
  {
   "cell_type": "markdown",
   "metadata": {
    "nbpresent": {
     "id": "5a11e9db-7360-4790-ad1b-3a1a2905d9d6"
    }
   },
   "source": [
    "![](img/logo.288981a8dfa8.png \"File Title\")"
   ]
  },
  {
   "cell_type": "markdown",
   "metadata": {
    "nbpresent": {
     "id": "2dccbcbb-c699-4d4b-9620-8a57767c8e3c"
    }
   },
   "source": [
    "![](img/scipyla.png \"File Title\")"
   ]
  },
  {
   "cell_type": "markdown",
   "metadata": {
    "nbpresent": {
     "id": "e48a973f-5578-4568-a006-758fb124a956"
    }
   },
   "source": [
    "# Librerías Core\n",
    "\n",
    "* Librerías fundamentales\n",
    "* Obligatorio hacer el tutorial de cada una de ellas"
   ]
  },
  {
   "cell_type": "markdown",
   "metadata": {
    "nbpresent": {
     "id": "7a0a2b8e-f403-4541-adb1-2245f7298716"
    }
   },
   "source": [
    "# Lib Core (1/5): Numpy\n",
    "\n",
    "* RESUMIENDO: Permite realizar cálculos\n",
    "* Básica. Muchas otras librerías se basan en esta y trabajan muy bien con ella\n",
    "* Buena velocidad. \n",
    "* Baterías incluidas: permite hacer muchos calculos"
   ]
  },
  {
   "cell_type": "code",
   "execution_count": 1,
   "metadata": {
    "nbpresent": {
     "id": "e6e9198a-7e80-49af-899d-1e380346f05d"
    }
   },
   "outputs": [
    {
     "name": "stdout",
     "output_type": "stream",
     "text": [
      "Máximo 625\n",
      "Raices cuadradas: [  4.47213595   2.82842712   3.           2.           5.          11.          25.        ]\n",
      "Senos: [ 0.91294525  0.98935825  0.41211849 -0.7568025  -0.13235175  0.99881522\n",
      "  0.17601627]\n"
     ]
    }
   ],
   "source": [
    "import numpy\n",
    "lista_numeros = numpy.array([20, 8, 9, 4, 25, 121, 625])\n",
    "print(\"Máximo\", numpy.max(lista_numeros))\n",
    "print(\"Raices cuadradas:\", numpy.sqrt(lista_numeros))\n",
    "print(\"Senos:\", numpy.sin(lista_numeros))"
   ]
  },
  {
   "cell_type": "markdown",
   "metadata": {
    "nbpresent": {
     "id": "2989a4d6-cdd8-4609-b072-8130e01bf334"
    }
   },
   "source": [
    "![](img/numpy.jpeg \"Numpy\")"
   ]
  },
  {
   "cell_type": "markdown",
   "metadata": {
    "nbpresent": {
     "id": "ab26229a-dfbf-4096-8281-aeea2626a468"
    }
   },
   "source": [
    "# Lib. Core (2/5): Jupyter/Ipython\n",
    "\n",
    "* RESUMIENDO: plataforma para trabajar con librerías de python de forma sencilla, comoda y principalmente rápida.\n",
    "* Definición correcta: Intérprete interactivo python en el navegador (browser)\n",
    "* Permite trabajar con Python, R, Ruby\n",
    "* Permite compartir nuestras investigaciones hechas con python y que sean emulables o repetidos por otros científicos (Muy importante en Investigación)"
   ]
  },
  {
   "cell_type": "markdown",
   "metadata": {
    "nbpresent": {
     "id": "2242ecaa-0364-42d5-b77e-dfc8cf1b0c5c"
    }
   },
   "source": [
    "![](img/jupyter.png \"Jupyter\")"
   ]
  },
  {
   "cell_type": "markdown",
   "metadata": {
    "nbpresent": {
     "id": "53e5979e-0930-4692-af75-813c54ebf7a5"
    }
   },
   "source": [
    "# Librería Core (3/5): Matplotlib\n",
    "\n",
    "* RESUMIENDO: Permite hacer gráficos (barras, histogramas, boxplot, imagenes) Cómo el sistema gráfico de Excel, pero con más cosas.\n",
    "* Es vieja, desde 2003 pero todavía muy utilizada\n",
    "* Muy customizable, pero puede alargar el trabajo\n",
    "* La página oficial tiene muchos ejemplos\n",
    "* Puede resultar abrumadora"
   ]
  },
  {
   "cell_type": "markdown",
   "metadata": {
    "nbpresent": {
     "id": "c09cc0e3-1b87-4448-98e2-f6c763462d82"
    }
   },
   "source": [
    "![](img/matplotlib.png \"Matplotlib\")"
   ]
  },
  {
   "cell_type": "code",
   "execution_count": 106,
   "metadata": {
    "collapsed": true
   },
   "outputs": [],
   "source": [
    "import matplotlib.pyplot as plt\n",
    "%matplotlib inline"
   ]
  },
  {
   "cell_type": "code",
   "execution_count": 7,
   "metadata": {
    "nbpresent": {
     "id": "f19137f0-1138-41fa-9389-dc497ce58d22"
    }
   },
   "outputs": [
    {
     "data": {
      "image/png": "[encoded data removed]",
      "text/plain": [
       "<matplotlib.figure.Figure at 0x7f5a788ccdd8>"
      ]
     },
     "metadata": {},
     "output_type": "display_data"
    }
   ],
   "source": [
    "import matplotlib.pyplot as plt\n",
    "%matplotlib inline\n",
    "fig, ax = plt.subplots(figsize=(28, 16))\n",
    "ax.set_ylim(-700, 700)\n",
    "ax.grid(axis='y')\n",
    "# ax.bar(left=[1, 2, 3, 4, 5, 6, 7, 8], height=lista_numeros, color='gray')\n",
    "ax.plot(lista_numeros, lw=14, ls='-', c='red', marker='o', mew=35)\n",
    "fig.text(0.5, 0.5, 'UNSa', horizontalalignment='center', verticalalignment='center', \n",
    "         family='serif', fontsize=250, alpha=0.3)\n",
    "fig.savefig('img/unsa_example.png')"
   ]
  },
  {
   "cell_type": "markdown",
   "metadata": {
    "nbpresent": {
     "id": "899a6f2f-22c6-4adb-9f48-b283c987223e"
    }
   },
   "source": [
    "# Librería Core (4/5): Scipy\n",
    "\n",
    "* Librería para ciencia en general, extiende las funcionalidad de Numpy\n",
    "* Probablemente poco reconocida, pero muy poderosa\n",
    "* Funciones estadísticas, Algebra lineal, Clustering, Procesamiento de imágenes multidimensionales, Interpolación, Algoritmos espaciales."
   ]
  },
  {
   "cell_type": "code",
   "execution_count": 22,
   "metadata": {
    "nbpresent": {
     "id": "c821a819-9fe7-4517-a204-16c305f5871c"
    }
   },
   "outputs": [
    {
     "name": "stdout",
     "output_type": "stream",
     "text": [
      "Varianza: 1.25\n",
      "Desviacion estandar: 1.11803398875\n"
     ]
    }
   ],
   "source": [
    "import scipy\n",
    "lista_numeros = [1, 2, 3, 4,]\n",
    "print(\"Varianza:\", scipy.var(lista_numeros))\n",
    "print(\"Desviacion estandar:\", scipy.std(lista_numeros))"
   ]
  },
  {
   "cell_type": "markdown",
   "metadata": {
    "nbpresent": {
     "id": "a0bc17f3-81f8-4e28-b8cb-63f252e77f72"
    }
   },
   "source": [
    "![](img/scipy.png \"Scipy\")"
   ]
  },
  {
   "cell_type": "markdown",
   "metadata": {
    "nbpresent": {
     "id": "636d19f6-1344-4ae6-b3b6-86701a8b49c6"
    }
   },
   "source": [
    "# Librería Core (5/5): Pandas\n",
    "\n",
    "* RESUMIENDO: es un excel, pero mejor, mucho mejor.\n",
    "* Implementa tablas numéricas: columnas, filas y celdas\n",
    "* Muy eficiente y muy completa\n",
    "* Herramientas: Filtrado, Join, GroupBy, manejo de datos faltantes, Serie de tiempo, etc.\n",
    "* La recomendada si solo vas a analizar datos"
   ]
  },
  {
   "cell_type": "markdown",
   "metadata": {
    "nbpresent": {
     "id": "5ed3702d-2bb3-4e92-b0a0-40f46e64c455"
    }
   },
   "source": [
    "![](img/pandas.png \"Pandas\")"
   ]
  },
  {
   "cell_type": "code",
   "execution_count": 21,
   "metadata": {
    "nbpresent": {
     "id": "e8da10f5-9dde-4e91-9dff-39bd8bf7ecfc"
    }
   },
   "outputs": [
    {
     "name": "stdout",
     "output_type": "stream",
     "text": [
      "   A  B   C    D\n",
      "0  c  2  56  100\n",
      "1  d  2  90  991\n",
      "2  c  2  13  520\n",
      "3  d  2  12  641\n"
     ]
    }
   ],
   "source": [
    "import pandas as pd\n",
    "tabla =pd.read_excel('img/datos.xls')\n",
    "print(tabla)"
   ]
  },
  {
   "cell_type": "markdown",
   "metadata": {
    "nbpresent": {
     "id": "331bc2bf-c430-4430-99f0-dbe3ebe11ee7"
    }
   },
   "source": [
    "# Librerías Core: Recomendaciones\n",
    "\n",
    "* Repito: Obligatorio hacer tutorial de cada una de ellas\n",
    "* Su importancia varía de acuerdo a la necesidad del usuario. Ej. Si vas a utilizar estadística aprende Scipy, si vas a calcular la media de este mes y compararla al mes anterior: Pandas"
   ]
  },
  {
   "cell_type": "markdown",
   "metadata": {
    "nbpresent": {
     "id": "8e336df4-c1c2-4a6e-960e-29f57cdda740"
    }
   },
   "source": [
    "# Librerías Específicas"
   ]
  },
  {
   "cell_type": "markdown",
   "metadata": {
    "nbpresent": {
     "id": "4566540c-a7f3-43da-9c5a-daad72db3558"
    }
   },
   "source": [
    "# Visualización\n",
    "\n",
    "* Bokeh:\n",
    " - RESUMIENDO: hace gráficos interactivos\n",
    " - Recomendada para explorar datos y analizar errores\n",
    " - DESVENTAJA: necesitas internet para usarla\n",
    "* Altair:\n",
    " - Estado: ganando terreno\n",
    " - DESVENTAJA: no interactiva"
   ]
  },
  {
   "cell_type": "markdown",
   "metadata": {
    "nbpresent": {
     "id": "fb5e3c0d-3921-4efb-89e4-854c7eee7651"
    }
   },
   "source": [
    "# Machine Learning\n",
    "\n",
    "* Scikit-learn\n",
    " - No usa redes neuronales\n",
    "* Xgboost\n",
    " - Usa un algoritmo de clasificación y regresión\n",
    " - El clasificador por defecto desde ~2015"
   ]
  },
  {
   "cell_type": "markdown",
   "metadata": {
    "nbpresent": {
     "id": "8a5f68fa-1d53-4801-b9d0-3f7c89fb7d70"
    }
   },
   "source": [
    "# Natural Lenguaje Processing\n",
    "\n",
    "* spaCy\n",
    " - Alta performance, muy rápido\n",
    " - Todavía no trabaja con español\n",
    "* gensim\n",
    " - Busca similares: Obama => Bush, Clinton\n",
    " - Analogías: Francia - Paris + Roma ~= Italia"
   ]
  },
  {
   "cell_type": "markdown",
   "metadata": {
    "nbpresent": {
     "id": "5b411a3e-c11b-4b87-bce6-eb905332d353"
    }
   },
   "source": [
    "# Image Proccesing\n",
    "\n",
    "* Scikit-Image\n",
    " - Estandar de facto\n",
    " - Recomendada para empezar\n",
    "* OpenCV\n",
    " - Tiene cosas útiles para videos/imagenes\n",
    " - Deep Learning la está empujando al olvido"
   ]
  },
  {
   "cell_type": "markdown",
   "metadata": {
    "nbpresent": {
     "id": "338a826e-8313-4438-8ecd-0f264092f774"
    }
   },
   "source": [
    "# Deep Learning\n",
    "\n",
    "* Keras\n",
    " - Librería de alto nivel\n",
    " - Recomendado para empezar\n",
    "* Tensorflow\n",
    " - Librería de bajo nivel\n",
    "* Lasagne\n",
    " - Librería de bajo nivel"
   ]
  },
  {
   "cell_type": "markdown",
   "metadata": {
    "nbpresent": {
     "id": "5a2cc48e-b4e4-40f8-8116-596eed5473ad"
    }
   },
   "source": [
    "## Otros\n",
    "* Theano\n",
    " - Pilar de otras librerías\n",
    " - Librería elemental para optimización numérica\n",
    "* Simpy\n",
    " - Cálculo simbólico.\n",
    "* statsmodels\n",
    " - Todo sobre estadística\n",
    "* Astropy\n",
    " - Todo sobre astronomía\n",
    "* Blaze, Xarray, Pytables\n",
    " - Cuando pandas se queda chico"
   ]
  },
  {
   "cell_type": "markdown",
   "metadata": {
    "nbpresent": {
     "id": "81d7bf69-a7d9-477b-8362-a3509b8d46bf"
    }
   },
   "source": [
    "# ¿Cómo empezar a programar siendo Científicos?\n",
    "* Nota: estás son recomendaciones en base a mi experiencia\n",
    "* Considero que hay muchos otros caminos más cortos y más largos.\n",
    "* Están orientados a python, pero hay otros lenguajes de programación tmb con librerías científicas"
   ]
  },
  {
   "cell_type": "markdown",
   "metadata": {
    "nbpresent": {
     "id": "6ac08922-2f1f-4e71-9931-fd9a39496391"
    }
   },
   "source": [
    "# ¿Qué tengo que instalar?\n",
    "1. Prueba con otros sistemas operativos (GNU Linux por ej, Debian, Ubuntu, ArcLinux)\n",
    " * Puedes tener dos sistemas operativos, perdida mínima de compatibilidad, etc\n",
    "2. Cómo instalo Python?\n",
    " * Camino 1: bajar Python de www.python.org Recomiendo python 3.x. Librerías (Numpy, pandas, etc.) pueden instalarse vía Pip.\n",
    " * Camino 2: Recomiendo **Anaconda** (Distribución de Python) Librerías se instalan conda o pip"
   ]
  },
  {
   "cell_type": "markdown",
   "metadata": {
    "nbpresent": {
     "id": "78fbb259-3074-4c47-8236-b954cb6205ed"
    }
   },
   "source": [
    "# Recomendaciones varias\n",
    "Si quieres crecer conviene trabajar en equipos, siempre.\n",
    "\n",
    "Aprende bien una librería y recién salta a la siguiente.\n",
    "\n",
    "Mejora tu ingles (Documentación, mayor información, etc)\n",
    "\n",
    "Reuniones periodicas, sumar gente científica y no científica, discutir, probar, etc.\n",
    "\n",
    "Cuidado con las versiones de las librerías. Pandas 0.15 != 0.20\n",
    "\n",
    "Prueba ayudar a un programador o comunidad de la librería que más te guste"
   ]
  },
  {
   "cell_type": "markdown",
   "metadata": {
    "nbpresent": {
     "id": "c0d983d0-bf07-4eb5-95e0-04e0155c7ac9"
    }
   },
   "source": [
    "## ¿Dónde encuentro información? ¿O datos?\n",
    "\n",
    "* Información de programación\n",
    " * Blogs especializados (Recomiendo: Pybonacci, son españoles, científicos y buenos) \n",
    " * Para consultar puedes ir a lista de correos (www.python.org.ar), Stackoverflow, Grupos de Telegram (preguntame, tengo varios).\n",
    " \n",
    "* Datos para practicas\n",
    " * Base de datos abiertas, API (un poco avanzado, pero útil)"
   ]
  },
  {
   "cell_type": "markdown",
   "metadata": {
    "nbpresent": {
     "id": "028f30ff-50e4-47e5-82b5-ce851ee378dc"
    }
   },
   "source": [
    "# Citar trabajos\n",
    "\n",
    "Ok. Ya tengo las librerías, trabajo en equipo, tengo montaña de datos y armé mi ultima investigación con Python.\n",
    "\n",
    "Quiero publicar mi paper en una revista científica.\n",
    "\n",
    "Las librerías científicas en sus páginas web tienen las citas que debes utilizar en Bibliografias.\n",
    "\n",
    "https://www.scipy.org/citing.html\n",
    "\n"
   ]
  },
  {
   "cell_type": "markdown",
   "metadata": {
    "nbpresent": {
     "id": "2c478f4a-e043-4595-b51b-c869aa2d4166"
    }
   },
   "source": [
    "Stéfan van der Walt, S. Chris Colbert and Gaël Varoquaux. The NumPy Array: A Structure for Efficient Numerical Computation, Computing in Science & Engineering, 13, 22-30 (2011), DOI:10.1109/MCSE.2011.37\n",
    "\n",
    "John D. Hunter. Matplotlib: A 2D Graphics Environment, Computing in Science & Engineering, 9, 90-95 (2007), DOI:10.1109/MCSE.2007.55\n",
    "\n",
    "Wes McKinney. Data Structures for Statistical Computing in Python, Proceedings of the 9th Python in Science Conference, 51-56 (2010)\n",
    "\n",
    "Fernando Pérez and Brian E. Granger. IPython: A System for Interactive Scientific Computing, Computing in Science & Engineering, 9, 21-29 (2007), DOI:10.1109/MCSE.2007.53"
   ]
  },
  {
   "cell_type": "markdown",
   "metadata": {
    "nbpresent": {
     "id": "b1ef325a-f9be-49f2-8414-6b3e84912e28"
    }
   },
   "source": [
    "# Ultima nota\n",
    "\n",
    "* Obviamente...\n",
    " - no hable de muchos temas importantes, estoy seguro que habrá tiempo en el futuro para discutirlos\n",
    " - todo lo que dije no se entendió (recomiendo releer esto en unos meses cuando hayas aprendido más)\n",
    " - espero haberte ayudado un paso en este mundo nuevo y quizás intimidante al principio."
   ]
  },
  {
   "cell_type": "markdown",
   "metadata": {
    "nbpresent": {
     "id": "22dc8b1e-832d-44db-850a-d7d5c3bcb68c"
    }
   },
   "source": [
    "# <center>Muchas Gracias por su atención</center>"
   ]
  }
 ],
 "metadata": {
  "anaconda-cloud": {},
  "kernelspec": {
   "display_name": "Python [Root]",
   "language": "python",
   "name": "Python [Root]"
  },
  "language_info": {
   "codemirror_mode": {
    "name": "ipython",
    "version": 3
   },
   "file_extension": ".py",
   "mimetype": "text/x-python",
   "name": "python",
   "nbconvert_exporter": "python",
   "pygments_lexer": "ipython3",
   "version": "3.5.2"
  },
  "nbpresent": {
   "slides": {
    "0885e714-1980-4b0c-882f-08e2dcf01915": {
     "id": "0885e714-1980-4b0c-882f-08e2dcf01915",
     "prev": "45ddce2b-f169-421b-bc2c-f6f20f8e6b53",
     "regions": {
      "e79ea319-8641-4a4d-a1e5-63b155a0b71f": {
       "attrs": {
        "height": 0.7999999999999999,
        "width": 0.85252067743206,
        "x": 0.05,
        "y": 0.09999999999999999
       },
       "content": {
        "cell": "f19137f0-1138-41fa-9389-dc497ce58d22",
        "part": "whole"
       },
       "id": "e79ea319-8641-4a4d-a1e5-63b155a0b71f"
      }
     }
    },
    "1484f76c-d751-4d35-821f-7f3b62c7e7bd": {
     "id": "1484f76c-d751-4d35-821f-7f3b62c7e7bd",
     "prev": "8cb562c2-9260-46b0-94ef-5c52dd66074e",
     "regions": {
      "26a3a437-5cb5-440b-b454-af1940e8cfa7": {
       "attrs": {
        "height": 0.2345017830353431,
        "width": 0.8,
        "x": 0.1,
        "y": 0.46549821696465693
       },
       "content": {
        "cell": "22dc8b1e-832d-44db-850a-d7d5c3bcb68c",
        "part": "source"
       },
       "id": "26a3a437-5cb5-440b-b454-af1940e8cfa7"
      },
      "4cde1046-5406-4eb1-95f6-b9247c013774": {
       "attrs": {
        "height": 0.2,
        "width": 0.4,
        "x": 0.1,
        "y": 0.7
       },
       "id": "4cde1046-5406-4eb1-95f6-b9247c013774"
      },
      "b1ddcf44-f728-4c52-a421-53f615ed0bf0": {
       "attrs": {
        "height": 0.2,
        "width": 0.4,
        "x": 0.5,
        "y": 0.7
       },
       "id": "b1ddcf44-f728-4c52-a421-53f615ed0bf0"
      }
     }
    },
    "216eaa06-db68-4c8b-9c8a-f8aaf3c86ac7": {
     "id": "216eaa06-db68-4c8b-9c8a-f8aaf3c86ac7",
     "prev": "3fe5e9cf-cf8a-40ca-8654-82fbd827922f",
     "regions": {
      "820bf7b7-0f64-490b-9f7f-4d5ce2cc8417": {
       "attrs": {
        "height": 0.2,
        "width": 0.4,
        "x": 0.5,
        "y": 0.7
       },
       "id": "820bf7b7-0f64-490b-9f7f-4d5ce2cc8417"
      },
      "ab2256dc-cd5d-40a8-bf20-918dc8e48e35": {
       "attrs": {
        "height": 0.6,
        "width": 0.8,
        "x": 0.1,
        "y": 0.1
       },
       "content": {
        "cell": "9d691db8-ff80-4ffe-b48a-8227d6aed1b5",
        "part": "source"
       },
       "id": "ab2256dc-cd5d-40a8-bf20-918dc8e48e35"
      },
      "f27b7f91-7715-4114-895b-eb32aaecc35d": {
       "attrs": {
        "height": 0.2,
        "width": 0.4,
        "x": 0.1,
        "y": 0.7
       },
       "id": "f27b7f91-7715-4114-895b-eb32aaecc35d"
      }
     }
    },
    "2f38fe34-1454-4fc8-9891-fbd1a67f7688": {
     "id": "2f38fe34-1454-4fc8-9891-fbd1a67f7688",
     "prev": "812074e1-2502-4a79-a9f3-bde696e4fbe5",
     "regions": {
      "59ced86e-1dd5-4150-8946-2511dfea64fc": {
       "attrs": {
        "height": 0.6,
        "width": 0.8,
        "x": 0.1,
        "y": 0.1
       },
       "content": {
        "cell": "5a2cc48e-b4e4-40f8-8116-596eed5473ad",
        "part": "source"
       },
       "id": "59ced86e-1dd5-4150-8946-2511dfea64fc"
      },
      "c4cc297f-b00c-4839-9927-6f3702cbf341": {
       "attrs": {
        "height": 0.2,
        "width": 0.4,
        "x": 0.5,
        "y": 0.7
       },
       "id": "c4cc297f-b00c-4839-9927-6f3702cbf341"
      },
      "d77c4499-75cd-4e18-9e8a-7ef5e91eeefd": {
       "attrs": {
        "height": 0.2,
        "width": 0.4,
        "x": 0.1,
        "y": 0.7
       },
       "id": "d77c4499-75cd-4e18-9e8a-7ef5e91eeefd"
      }
     }
    },
    "3156d1e5-8ad4-4690-9ea3-3a9bb363fd88": {
     "id": "3156d1e5-8ad4-4690-9ea3-3a9bb363fd88",
     "prev": "dbc65078-d301-4bbc-ac60-ae0df290b559",
     "regions": {
      "449dc25f-a1a1-4153-bc7d-694b561128d7": {
       "attrs": {
        "height": 0.2,
        "width": 0.4,
        "x": 0.1,
        "y": 0.7
       },
       "id": "449dc25f-a1a1-4153-bc7d-694b561128d7"
      },
      "94532ce7-d22a-440e-b01f-191cb839c808": {
       "attrs": {
        "height": 0.6,
        "width": 0.8,
        "x": 0.1,
        "y": 0.1
       },
       "content": {
        "cell": "8e336df4-c1c2-4a6e-960e-29f57cdda740",
        "part": "source"
       },
       "id": "94532ce7-d22a-440e-b01f-191cb839c808"
      },
      "c76529c4-b344-4f76-bdf7-e0559d409a97": {
       "attrs": {
        "height": 0.2,
        "width": 0.4,
        "x": 0.5,
        "y": 0.7
       },
       "id": "c76529c4-b344-4f76-bdf7-e0559d409a97"
      }
     }
    },
    "3fe5e9cf-cf8a-40ca-8654-82fbd827922f": {
     "id": "3fe5e9cf-cf8a-40ca-8654-82fbd827922f",
     "prev": null,
     "regions": {
      "20cf00e3-a924-4d8f-ab29-6755e7f49fa2": {
       "attrs": {
        "height": 0.2,
        "width": 0.4,
        "x": 0.1,
        "y": 0.7
       },
       "id": "20cf00e3-a924-4d8f-ab29-6755e7f49fa2"
      },
      "248a3b3b-dfea-4a73-b928-89f2a0a3ef2c": {
       "attrs": {
        "height": 0.2639096864093749,
        "width": 0.8,
        "x": 0.1,
        "y": 0.43609031359062517
       },
       "content": {
        "cell": "ec1d7259-be51-4076-976f-706512039b24",
        "part": "source"
       },
       "id": "248a3b3b-dfea-4a73-b928-89f2a0a3ef2c"
      },
      "769eb1f1-18bc-46dc-a3fe-4354c7503a77": {
       "attrs": {
        "height": 0.2,
        "width": 0.4,
        "x": 0.5,
        "y": 0.7
       },
       "id": "769eb1f1-18bc-46dc-a3fe-4354c7503a77"
      }
     }
    },
    "4408f0bd-0a22-41ee-8dcf-3a7bc41d1ca2": {
     "id": "4408f0bd-0a22-41ee-8dcf-3a7bc41d1ca2",
     "prev": "4ce2d4f3-b684-4b32-9ad3-0e9416e8010f",
     "regions": {
      "0f2b16f6-3078-400c-b05b-2ee222d563f9": {
       "attrs": {
        "height": 0.2,
        "width": 0.4,
        "x": 0.1,
        "y": 0.7
       },
       "id": "0f2b16f6-3078-400c-b05b-2ee222d563f9"
      },
      "30dc6429-3525-45de-9f3c-16dfdd8d74c4": {
       "attrs": {
        "height": 0.6,
        "width": 0.8,
        "x": 0.1,
        "y": 0.1
       },
       "content": {
        "cell": "2c478f4a-e043-4595-b51b-c869aa2d4166",
        "part": "source"
       },
       "id": "30dc6429-3525-45de-9f3c-16dfdd8d74c4"
      },
      "77b92e48-061d-4926-b3b0-5cdea4095b05": {
       "attrs": {
        "height": 0.2,
        "width": 0.4,
        "x": 0.5,
        "y": 0.7
       },
       "id": "77b92e48-061d-4926-b3b0-5cdea4095b05"
      }
     }
    },
    "45ddce2b-f169-421b-bc2c-f6f20f8e6b53": {
     "id": "45ddce2b-f169-421b-bc2c-f6f20f8e6b53",
     "prev": "756ee3b0-07d3-4a61-86c6-262cda842d68",
     "regions": {
      "02440635-dd68-40f8-a2e7-ed4676409531": {
       "attrs": {
        "height": 0.2,
        "width": 0.4,
        "x": 0.5,
        "y": 0.7
       },
       "id": "02440635-dd68-40f8-a2e7-ed4676409531"
      },
      "1bef4d03-066b-43c6-8330-b52e3caa0d0b": {
       "attrs": {
        "height": 0.6,
        "width": 0.8,
        "x": 0.1,
        "y": 0.1
       },
       "content": {
        "cell": "53e5979e-0930-4692-af75-813c54ebf7a5",
        "part": "source"
       },
       "id": "1bef4d03-066b-43c6-8330-b52e3caa0d0b"
      },
      "f232110d-a750-4b55-995f-671ec5c7ff43": {
       "attrs": {
        "height": 0.19999999999999998,
        "width": 0.4,
        "x": 0.10708940527766836,
        "y": 0.7910244628243839
       },
       "content": {
        "cell": "c09cc0e3-1b87-4448-98e2-f6c763462d82",
        "part": "source"
       },
       "id": "f232110d-a750-4b55-995f-671ec5c7ff43"
      }
     }
    },
    "4ce2d4f3-b684-4b32-9ad3-0e9416e8010f": {
     "id": "4ce2d4f3-b684-4b32-9ad3-0e9416e8010f",
     "prev": "fc719724-a4c7-44f4-92ea-52dd26923067",
     "regions": {
      "49e42bb4-f09d-47c8-a855-5e0a8e12f6df": {
       "attrs": {
        "height": 0.2,
        "width": 0.4,
        "x": 0.1,
        "y": 0.7
       },
       "id": "49e42bb4-f09d-47c8-a855-5e0a8e12f6df"
      },
      "c5ced044-ab44-466e-a2b6-bff0c82679ba": {
       "attrs": {
        "height": 0.6,
        "width": 0.8,
        "x": 0.1,
        "y": 0.1
       },
       "content": {
        "cell": "028f30ff-50e4-47e5-82b5-ce851ee378dc",
        "part": "source"
       },
       "id": "c5ced044-ab44-466e-a2b6-bff0c82679ba"
      },
      "e9ec4832-ed3f-4c4d-97c3-1ce9f8e64387": {
       "attrs": {
        "height": 0.2,
        "width": 0.4,
        "x": 0.5,
        "y": 0.7
       },
       "id": "e9ec4832-ed3f-4c4d-97c3-1ce9f8e64387"
      }
     }
    },
    "756ee3b0-07d3-4a61-86c6-262cda842d68": {
     "id": "756ee3b0-07d3-4a61-86c6-262cda842d68",
     "prev": "c31246d6-eda8-4095-9dcc-2b461811899e",
     "regions": {
      "266a573b-82f7-496a-bdbd-81a3841db5cd": {
       "attrs": {
        "height": 0.2,
        "width": 0.4,
        "x": 0.5,
        "y": 0.7
       },
       "id": "266a573b-82f7-496a-bdbd-81a3841db5cd"
      },
      "2cfae822-25e0-4dc7-95dc-23a570e0e51f": {
       "attrs": {
        "height": 0.6,
        "width": 0.8,
        "x": 0.1,
        "y": 0.1
       },
       "content": {
        "cell": "ab26229a-dfbf-4096-8281-aeea2626a468",
        "part": "source"
       },
       "id": "2cfae822-25e0-4dc7-95dc-23a570e0e51f"
      },
      "ad9f74af-d6ea-48c5-b4b4-7a6b61325f2c": {
       "attrs": {
        "height": 0.19999999999999998,
        "width": 0.4,
        "x": 0.1,
        "y": 0.8050282263358276
       },
       "content": {
        "cell": "2242ecaa-0364-42d5-b77e-dfc8cf1b0c5c",
        "part": "source"
       },
       "id": "ad9f74af-d6ea-48c5-b4b4-7a6b61325f2c"
      }
     }
    },
    "7ea81256-66e3-455f-929c-5640e285f23b": {
     "id": "7ea81256-66e3-455f-929c-5640e285f23b",
     "prev": "e8bf53e9-6f0c-494d-aca8-28f4bd8258d5",
     "regions": {
      "5768795e-c578-4245-82f4-48277b5f2bee": {
       "attrs": {
        "height": 0.2,
        "width": 0.4,
        "x": 0.1,
        "y": 0.7
       },
       "id": "5768795e-c578-4245-82f4-48277b5f2bee"
      },
      "b703223c-63dc-4aa0-b0e7-9a10e938287f": {
       "attrs": {
        "height": 0.6,
        "width": 0.8,
        "x": 0.1,
        "y": 0.1
       },
       "content": {
        "cell": "fb5e3c0d-3921-4efb-89e4-854c7eee7651",
        "part": "source"
       },
       "id": "b703223c-63dc-4aa0-b0e7-9a10e938287f"
      },
      "f358bc58-6799-4fb7-8acf-86cc5d991a82": {
       "attrs": {
        "height": 0.2,
        "width": 0.4,
        "x": 0.5,
        "y": 0.7
       },
       "id": "f358bc58-6799-4fb7-8acf-86cc5d991a82"
      }
     }
    },
    "808edc01-fc75-48c6-9b60-27b78686c993": {
     "id": "808edc01-fc75-48c6-9b60-27b78686c993",
     "prev": "b62e0f91-3b20-4648-94e3-3271b4d3b28d",
     "regions": {
      "10051cfc-8037-4a35-8924-fd99a0bdcbdc": {
       "attrs": {
        "height": 0.6,
        "width": 0.8,
        "x": 0.1,
        "y": 0.1
       },
       "content": {
        "cell": "017d076f-3adc-472f-a9c0-096fcd72140f",
        "part": "source"
       },
       "id": "10051cfc-8037-4a35-8924-fd99a0bdcbdc"
      },
      "17842643-5ed7-416e-9df6-ae0f473bc203": {
       "attrs": {
        "height": 0.2,
        "width": 0.4,
        "x": 0.1,
        "y": 0.7
       },
       "id": "17842643-5ed7-416e-9df6-ae0f473bc203"
      },
      "3038b692-0ed3-4651-836a-1abc670a79af": {
       "attrs": {
        "height": 0.2,
        "width": 0.4,
        "x": 0.5,
        "y": 0.7
       },
       "id": "3038b692-0ed3-4651-836a-1abc670a79af"
      }
     }
    },
    "812074e1-2502-4a79-a9f3-bde696e4fbe5": {
     "id": "812074e1-2502-4a79-a9f3-bde696e4fbe5",
     "prev": "f891ab12-9ea4-4bd5-a005-d8e60c76262d",
     "regions": {
      "35379c7b-a934-4224-ac38-10022127f425": {
       "attrs": {
        "height": 0.6,
        "width": 0.8,
        "x": 0.1,
        "y": 0.1
       },
       "content": {
        "cell": "338a826e-8313-4438-8ecd-0f264092f774",
        "part": "source"
       },
       "id": "35379c7b-a934-4224-ac38-10022127f425"
      },
      "516be0c0-706b-4220-aab3-fc4612bb7e4c": {
       "attrs": {
        "height": 0.2,
        "width": 0.4,
        "x": 0.1,
        "y": 0.7
       },
       "id": "516be0c0-706b-4220-aab3-fc4612bb7e4c"
      },
      "d94d3ffc-5686-4cfc-ad51-fa586c4a0331": {
       "attrs": {
        "height": 0.2,
        "width": 0.4,
        "x": 0.5,
        "y": 0.7
       },
       "id": "d94d3ffc-5686-4cfc-ad51-fa586c4a0331"
      }
     }
    },
    "8cb562c2-9260-46b0-94ef-5c52dd66074e": {
     "id": "8cb562c2-9260-46b0-94ef-5c52dd66074e",
     "prev": "4408f0bd-0a22-41ee-8dcf-3a7bc41d1ca2",
     "regions": {
      "178fda5d-45dc-42d1-b813-20d849eb5ab6": {
       "attrs": {
        "height": 0.6,
        "width": 0.8,
        "x": 0.1,
        "y": 0.1
       },
       "content": {
        "cell": "b1ef325a-f9be-49f2-8414-6b3e84912e28",
        "part": "source"
       },
       "id": "178fda5d-45dc-42d1-b813-20d849eb5ab6"
      },
      "29795366-dad2-4b05-95b8-da9f3b9b16c3": {
       "attrs": {
        "height": 0.2,
        "width": 0.4,
        "x": 0.5,
        "y": 0.7
       },
       "id": "29795366-dad2-4b05-95b8-da9f3b9b16c3"
      },
      "be62a595-cbdd-427a-b1e9-d38ae4c78a2e": {
       "attrs": {
        "height": 0.2,
        "width": 0.4,
        "x": 0.1,
        "y": 0.7
       },
       "id": "be62a595-cbdd-427a-b1e9-d38ae4c78a2e"
      }
     }
    },
    "b5aaa092-5af9-47d7-8856-328cb8aeda0b": {
     "id": "b5aaa092-5af9-47d7-8856-328cb8aeda0b",
     "prev": "d8a484e9-de52-4454-880e-8641a5c8bd40",
     "regions": {
      "8d6dcf99-5a8d-47a1-9159-89b789fd060c": {
       "attrs": {
        "height": 0.2,
        "width": 0.4,
        "x": 0.5,
        "y": 0.7
       },
       "id": "8d6dcf99-5a8d-47a1-9159-89b789fd060c"
      },
      "e5c2e7dc-ac35-464d-9966-b26ff5281a8a": {
       "attrs": {
        "height": 0.6,
        "width": 0.8,
        "x": 0.1,
        "y": 0.1
       },
       "content": {
        "cell": "e8da10f5-9dde-4e91-9dff-39bd8bf7ecfc",
        "part": "whole"
       },
       "id": "e5c2e7dc-ac35-464d-9966-b26ff5281a8a"
      },
      "ed73e0eb-1f08-4210-9e91-d71ecb6852d6": {
       "attrs": {
        "height": 0.2,
        "width": 0.4,
        "x": 0.1,
        "y": 0.7
       },
       "id": "ed73e0eb-1f08-4210-9e91-d71ecb6852d6"
      }
     }
    },
    "b62e0f91-3b20-4648-94e3-3271b4d3b28d": {
     "id": "b62e0f91-3b20-4648-94e3-3271b4d3b28d",
     "prev": "216eaa06-db68-4c8b-9c8a-f8aaf3c86ac7",
     "regions": {
      "0e0a4854-8ea1-435d-b394-8b6ee7d55c96": {
       "attrs": {
        "height": 0.6,
        "width": 0.8,
        "x": 0.1,
        "y": 0.1
       },
       "content": {
        "cell": "3a7dda7b-0826-42c2-8f55-138597db0b77",
        "part": "source"
       },
       "id": "0e0a4854-8ea1-435d-b394-8b6ee7d55c96"
      },
      "4c5cd754-1b5d-47e0-b370-d35008301ae4": {
       "attrs": {
        "height": 0.2,
        "width": 0.4,
        "x": 0.1,
        "y": 0.7
       },
       "id": "4c5cd754-1b5d-47e0-b370-d35008301ae4"
      },
      "9203c04d-73ea-40b7-9f98-2252a658f7e2": {
       "attrs": {
        "height": 0.2,
        "width": 0.4,
        "x": 0.5,
        "y": 0.7
       },
       "id": "9203c04d-73ea-40b7-9f98-2252a658f7e2"
      }
     }
    },
    "ba42e485-8ecd-4ad1-9495-47c5d7e2be1e": {
     "id": "ba42e485-8ecd-4ad1-9495-47c5d7e2be1e",
     "prev": "7ea81256-66e3-455f-929c-5640e285f23b",
     "regions": {
      "5044f1e8-f662-4915-b4da-5cfd49258248": {
       "attrs": {
        "height": 0.2,
        "width": 0.4,
        "x": 0.5,
        "y": 0.7
       },
       "id": "5044f1e8-f662-4915-b4da-5cfd49258248"
      },
      "507e8de4-199c-45a9-ae6f-a0683ebb652a": {
       "attrs": {
        "height": 0.2,
        "width": 0.4,
        "x": 0.1,
        "y": 0.7
       },
       "id": "507e8de4-199c-45a9-ae6f-a0683ebb652a"
      },
      "d5934209-2985-475b-b18c-752644532b49": {
       "attrs": {
        "height": 0.6,
        "width": 0.8,
        "x": 0.1,
        "y": 0.1
       },
       "content": {
        "cell": "8a5f68fa-1d53-4801-b9d0-3f7c89fb7d70",
        "part": "source"
       },
       "id": "d5934209-2985-475b-b18c-752644532b49"
      }
     }
    },
    "c161ff35-47fc-47ff-ad62-8cd52d6bc54a": {
     "id": "c161ff35-47fc-47ff-ad62-8cd52d6bc54a",
     "prev": "d7f0c1c4-7ad2-453a-a662-3360c4636fcf",
     "regions": {
      "09f14b77-ff1f-41c6-ab6d-7e0b18d59c84": {
       "attrs": {
        "height": 0.2,
        "width": 0.4,
        "x": 0.5,
        "y": 0.7
       },
       "id": "09f14b77-ff1f-41c6-ab6d-7e0b18d59c84"
      },
      "5d380198-6c8c-4804-b90c-d9dc7c858211": {
       "attrs": {
        "height": 0.2,
        "width": 0.4,
        "x": 0.1,
        "y": 0.7
       },
       "id": "5d380198-6c8c-4804-b90c-d9dc7c858211"
      },
      "60da55be-8508-4ee0-907d-30b37eb1a584": {
       "attrs": {
        "height": 0.6,
        "width": 0.8,
        "x": 0.1,
        "y": 0.1
       },
       "content": {
        "cell": "e48a973f-5578-4568-a006-758fb124a956",
        "part": "source"
       },
       "id": "60da55be-8508-4ee0-907d-30b37eb1a584"
      }
     }
    },
    "c31246d6-eda8-4095-9dcc-2b461811899e": {
     "id": "c31246d6-eda8-4095-9dcc-2b461811899e",
     "prev": "c161ff35-47fc-47ff-ad62-8cd52d6bc54a",
     "regions": {
      "68cfe503-aca6-4ebe-bcee-6fff4cdbe546": {
       "attrs": {
        "height": 0.19999999999999998,
        "width": 0.4,
        "x": 0.5946829460417488,
        "y": 0.10343965304445096
       },
       "content": {
        "cell": "2989a4d6-cdd8-4609-b072-8130e01bf334",
        "part": "source"
       },
       "id": "68cfe503-aca6-4ebe-bcee-6fff4cdbe546"
      },
      "9feae229-67ca-4c33-ba18-68d439786859": {
       "attrs": {
        "height": 0.20090497737556562,
        "width": 0.8,
        "x": 0.09999999999999995,
        "y": 0.5744614846364908
       },
       "content": {
        "cell": "e6e9198a-7e80-49af-899d-1e380346f05d",
        "part": "whole"
       },
       "id": "9feae229-67ca-4c33-ba18-68d439786859"
      },
      "a9bd96a5-73a4-48be-8e03-5adcf2ecbb76": {
       "attrs": {
        "height": 0.47676688109929544,
        "width": 0.8,
        "x": 0.1,
        "y": 0.09999999999999999
       },
       "content": {
        "cell": "7a0a2b8e-f403-4541-adb1-2245f7298716",
        "part": "source"
       },
       "id": "a9bd96a5-73a4-48be-8e03-5adcf2ecbb76"
      },
      "fe196fbb-7745-4f77-a5b3-653e4cce7892": {
       "attrs": {
        "height": 0.2,
        "width": 0.4,
        "x": 0.5,
        "y": 0.7
       },
       "id": "fe196fbb-7745-4f77-a5b3-653e4cce7892"
      }
     }
    },
    "d7f0c1c4-7ad2-453a-a662-3360c4636fcf": {
     "id": "d7f0c1c4-7ad2-453a-a662-3360c4636fcf",
     "layout": "grid",
     "prev": "808edc01-fc75-48c6-9b60-27b78686c993",
     "regions": {
      "31faaced-2881-41bf-b551-5f006f73b59b": {
       "attrs": {
        "height": 0.49931075226467114,
        "pad": 0.01,
        "width": 0.4166666666666667,
        "x": 0.5,
        "y": 0.3333333333333333
       },
       "content": {
        "cell": "e74c4e10-9573-4474-8fc9-2486993e47f3",
        "part": "source"
       },
       "id": "31faaced-2881-41bf-b551-5f006f73b59b"
      },
      "410f1cbe-9c30-49cc-a6c7-f210b1719072": {
       "attrs": {
        "height": 0.16666666666666666,
        "pad": 0.01,
        "width": 0.3333333333333333,
        "x": 0.084121045030852,
        "y": 0.75
       },
       "content": {
        "cell": "5a11e9db-7360-4790-ad1b-3a1a2905d9d6",
        "part": "source"
       },
       "id": "410f1cbe-9c30-49cc-a6c7-f210b1719072"
      },
      "502c2674-6ece-40d3-aba7-9371d897a2fd": {
       "attrs": {
        "height": 0.5,
        "pad": 0.01,
        "width": 0.4166666666666667,
        "x": 0,
        "y": 0.3333333333333333
       },
       "content": {
        "cell": "2b9677f0-bdba-45c7-8007-de1433fd680c",
        "part": "source"
       },
       "id": "502c2674-6ece-40d3-aba7-9371d897a2fd"
      },
      "66b6cb0c-4c91-40fd-9fa0-47ebe22cbee7": {
       "attrs": {
        "height": 0.16666666666666666,
        "pad": 0.01,
        "width": 0.8333333333333334,
        "x": 0.08333333333333333,
        "y": 0
       },
       "content": {
        "cell": "5c353d26-6999-4a14-8f0d-9df3612cea65",
        "part": "source"
       },
       "id": "66b6cb0c-4c91-40fd-9fa0-47ebe22cbee7"
      },
      "ed622411-e5e3-4246-bfc4-1ebeed850261": {
       "attrs": {
        "height": 0.08333333333333333,
        "pad": 0.01,
        "width": 0.4166666666666667,
        "x": 0.5,
        "y": 0.8333333333333334
       },
       "content": {
        "cell": "2dccbcbb-c699-4d4b-9620-8a57767c8e3c",
        "part": "source"
       },
       "id": "ed622411-e5e3-4246-bfc4-1ebeed850261"
      }
     }
    },
    "d8a484e9-de52-4454-880e-8641a5c8bd40": {
     "id": "d8a484e9-de52-4454-880e-8641a5c8bd40",
     "prev": "daf465c5-4f22-47a1-b3a4-40014ae75e2c",
     "regions": {
      "8fd49a08-44e4-4870-a19d-5afb945bd258": {
       "attrs": {
        "height": 0.2,
        "width": 0.4,
        "x": 0.5,
        "y": 0.7
       },
       "id": "8fd49a08-44e4-4870-a19d-5afb945bd258"
      },
      "9d02c32a-f963-48fb-9cf0-22df6391c121": {
       "attrs": {
        "height": 0.6,
        "width": 0.8,
        "x": 0.1,
        "y": 0.1
       },
       "content": {
        "cell": "636d19f6-1344-4ae6-b3b6-86701a8b49c6",
        "part": "source"
       },
       "id": "9d02c32a-f963-48fb-9cf0-22df6391c121"
      },
      "bf68ab31-4018-4582-afa9-cb720e1e492e": {
       "attrs": {
        "height": 0.2,
        "width": 0.4,
        "x": 0.1,
        "y": 0.7
       },
       "content": {
        "cell": "5ed3702d-2bb3-4e92-b0a0-40f46e64c455",
        "part": "source"
       },
       "id": "bf68ab31-4018-4582-afa9-cb720e1e492e"
      }
     }
    },
    "d9d50a3a-d933-4051-808c-3287eef1db0e": {
     "id": "d9d50a3a-d933-4051-808c-3287eef1db0e",
     "prev": "fe7369af-7ad9-4e3d-94f4-124603a0be5b",
     "regions": {
      "5b83ca34-4ee2-4cf7-a408-86ba6df7fd1e": {
       "attrs": {
        "height": 0.2,
        "width": 0.4,
        "x": 0.1,
        "y": 0.7
       },
       "id": "5b83ca34-4ee2-4cf7-a408-86ba6df7fd1e"
      },
      "9ddf5f04-b7ba-4eb6-a6e0-36b34d06bffb": {
       "attrs": {
        "height": 0.6,
        "width": 0.8,
        "x": 0.1,
        "y": 0.1
       },
       "content": {
        "cell": "6ac08922-2f1f-4e71-9931-fd9a39496391",
        "part": "source"
       },
       "id": "9ddf5f04-b7ba-4eb6-a6e0-36b34d06bffb"
      },
      "fda4b225-e9b7-496e-b5ae-3b53947b4f65": {
       "attrs": {
        "height": 0.2,
        "width": 0.4,
        "x": 0.5,
        "y": 0.7
       },
       "id": "fda4b225-e9b7-496e-b5ae-3b53947b4f65"
      }
     }
    },
    "daf465c5-4f22-47a1-b3a4-40014ae75e2c": {
     "id": "daf465c5-4f22-47a1-b3a4-40014ae75e2c",
     "prev": "0885e714-1980-4b0c-882f-08e2dcf01915",
     "regions": {
      "09d83ac8-41f4-44b0-9b70-8e375b9dd7be": {
       "attrs": {
        "height": 0.19999999999999998,
        "width": 0.7568333989759748,
        "x": 0.1431666010240252,
        "y": 0.7
       },
       "content": {
        "cell": "c821a819-9fe7-4517-a204-16c305f5871c",
        "part": "whole"
       },
       "id": "09d83ac8-41f4-44b0-9b70-8e375b9dd7be"
      },
      "75afd4fa-70ef-49d0-987d-5a5cbd2369ba": {
       "attrs": {
        "height": 0.6,
        "width": 0.8,
        "x": 0.1,
        "y": 0.1
       },
       "content": {
        "cell": "899a6f2f-22c6-4adb-9f48-b283c987223e",
        "part": "source"
       },
       "id": "75afd4fa-70ef-49d0-987d-5a5cbd2369ba"
      },
      "c7bf39bc-e99b-4e93-a261-b0d77d7c52ec": {
       "attrs": {
        "height": 0.19999999999999998,
        "width": 0.4,
        "x": 0.5852304056715243,
        "y": 0.10343965304445096
       },
       "content": {
        "cell": "a0bc17f3-81f8-4e28-b8cb-63f252e77f72",
        "part": "source"
       },
       "id": "c7bf39bc-e99b-4e93-a261-b0d77d7c52ec"
      }
     }
    },
    "dbc65078-d301-4bbc-ac60-ae0df290b559": {
     "id": "dbc65078-d301-4bbc-ac60-ae0df290b559",
     "prev": "b5aaa092-5af9-47d7-8856-328cb8aeda0b",
     "regions": {
      "0ae669ce-f004-406f-a723-16cee06e6c87": {
       "attrs": {
        "height": 0.6,
        "width": 0.8,
        "x": 0.1,
        "y": 0.1
       },
       "content": {
        "cell": "331bc2bf-c430-4430-99f0-dbe3ebe11ee7",
        "part": "source"
       },
       "id": "0ae669ce-f004-406f-a723-16cee06e6c87"
      },
      "1826bd95-3e37-46a6-883a-26dc5f5b5e35": {
       "attrs": {
        "height": 0.2,
        "width": 0.4,
        "x": 0.1,
        "y": 0.7
       },
       "id": "1826bd95-3e37-46a6-883a-26dc5f5b5e35"
      },
      "8364cdf5-3daf-4c6a-ab53-9e78524b19d7": {
       "attrs": {
        "height": 0.2,
        "width": 0.4,
        "x": 0.5,
        "y": 0.7
       },
       "id": "8364cdf5-3daf-4c6a-ab53-9e78524b19d7"
      }
     }
    },
    "e59488c4-6634-4a7c-b381-89a7d821ae53": {
     "id": "e59488c4-6634-4a7c-b381-89a7d821ae53",
     "prev": "d9d50a3a-d933-4051-808c-3287eef1db0e",
     "regions": {
      "82b46511-f414-4338-96a2-771db74f33aa": {
       "attrs": {
        "height": 0.6,
        "width": 0.8,
        "x": 0.1,
        "y": 0.1
       },
       "content": {
        "cell": "78fbb259-3074-4c47-8236-b954cb6205ed",
        "part": "source"
       },
       "id": "82b46511-f414-4338-96a2-771db74f33aa"
      },
      "854372ea-8ba0-4c5c-997d-210547345bf5": {
       "attrs": {
        "height": 0.2,
        "width": 0.4,
        "x": 0.1,
        "y": 0.7
       },
       "id": "854372ea-8ba0-4c5c-997d-210547345bf5"
      },
      "aaf449dc-b59b-4475-99e3-7618650525ef": {
       "attrs": {
        "height": 0.2,
        "width": 0.4,
        "x": 0.5,
        "y": 0.7
       },
       "id": "aaf449dc-b59b-4475-99e3-7618650525ef"
      }
     }
    },
    "e8bf53e9-6f0c-494d-aca8-28f4bd8258d5": {
     "id": "e8bf53e9-6f0c-494d-aca8-28f4bd8258d5",
     "prev": "3156d1e5-8ad4-4690-9ea3-3a9bb363fd88",
     "regions": {
      "49fe1bda-83fe-4300-a6f1-f293ba173550": {
       "attrs": {
        "height": 0.6,
        "width": 0.8,
        "x": 0.1,
        "y": 0.1
       },
       "content": {
        "cell": "4566540c-a7f3-43da-9c5a-daad72db3558",
        "part": "source"
       },
       "id": "49fe1bda-83fe-4300-a6f1-f293ba173550"
      },
      "5a29ef8f-be75-4dff-b44a-007d83dbcb30": {
       "attrs": {
        "height": 0.2,
        "width": 0.4,
        "x": 0.5,
        "y": 0.7
       },
       "id": "5a29ef8f-be75-4dff-b44a-007d83dbcb30"
      },
      "fa433721-4155-422a-a6c5-f2fb6f8828b1": {
       "attrs": {
        "height": 0.2,
        "width": 0.4,
        "x": 0.1,
        "y": 0.7
       },
       "id": "fa433721-4155-422a-a6c5-f2fb6f8828b1"
      }
     }
    },
    "f891ab12-9ea4-4bd5-a005-d8e60c76262d": {
     "id": "f891ab12-9ea4-4bd5-a005-d8e60c76262d",
     "prev": "ba42e485-8ecd-4ad1-9495-47c5d7e2be1e",
     "regions": {
      "4e13038f-2fc0-4a67-9199-066c0ff76413": {
       "attrs": {
        "height": 0.6,
        "width": 0.8,
        "x": 0.1,
        "y": 0.1
       },
       "content": {
        "cell": "5b411a3e-c11b-4b87-bce6-eb905332d353",
        "part": "source"
       },
       "id": "4e13038f-2fc0-4a67-9199-066c0ff76413"
      },
      "b20fd98a-1152-45a0-ba59-b2700ea73c7f": {
       "attrs": {
        "height": 0.2,
        "width": 0.4,
        "x": 0.1,
        "y": 0.7
       },
       "id": "b20fd98a-1152-45a0-ba59-b2700ea73c7f"
      },
      "dd33e1fc-5ad0-4395-baa3-8b8beb59f5fc": {
       "attrs": {
        "height": 0.2,
        "width": 0.4,
        "x": 0.5,
        "y": 0.7
       },
       "id": "dd33e1fc-5ad0-4395-baa3-8b8beb59f5fc"
      }
     }
    },
    "fc719724-a4c7-44f4-92ea-52dd26923067": {
     "id": "fc719724-a4c7-44f4-92ea-52dd26923067",
     "prev": "e59488c4-6634-4a7c-b381-89a7d821ae53",
     "regions": {
      "5e1d3891-7680-4d31-aed5-7729aa3b2f1a": {
       "attrs": {
        "height": 0.2,
        "width": 0.4,
        "x": 0.1,
        "y": 0.7
       },
       "id": "5e1d3891-7680-4d31-aed5-7729aa3b2f1a"
      },
      "88538dec-63eb-4fd2-8d5d-732b8c620711": {
       "attrs": {
        "height": 0.2,
        "width": 0.4,
        "x": 0.5,
        "y": 0.7
       },
       "id": "88538dec-63eb-4fd2-8d5d-732b8c620711"
      },
      "8da30a82-fd40-44af-8fdd-2b8ad31624d0": {
       "attrs": {
        "height": 0.6,
        "width": 0.8,
        "x": 0.1,
        "y": 0.1
       },
       "content": {
        "cell": "c0d983d0-bf07-4eb5-95e0-04e0155c7ac9",
        "part": "source"
       },
       "id": "8da30a82-fd40-44af-8fdd-2b8ad31624d0"
      }
     }
    },
    "fe7369af-7ad9-4e3d-94f4-124603a0be5b": {
     "id": "fe7369af-7ad9-4e3d-94f4-124603a0be5b",
     "prev": "2f38fe34-1454-4fc8-9891-fbd1a67f7688",
     "regions": {
      "1492b1d3-e874-4737-a1bf-9630211b7d58": {
       "attrs": {
        "height": 0.6,
        "width": 0.8,
        "x": 0.1,
        "y": 0.1
       },
       "content": {
        "cell": "81d7bf69-a7d9-477b-8362-a3509b8d46bf",
        "part": "source"
       },
       "id": "1492b1d3-e874-4737-a1bf-9630211b7d58"
      },
      "7393f793-830e-40c3-9eab-8a108e91fa86": {
       "attrs": {
        "height": 0.2,
        "width": 0.4,
        "x": 0.5,
        "y": 0.7
       },
       "id": "7393f793-830e-40c3-9eab-8a108e91fa86"
      },
      "a62678d5-ce94-4de1-9f46-d9a61bd0dce7": {
       "attrs": {
        "height": 0.2,
        "width": 0.4,
        "x": 0.1,
        "y": 0.7
       },
       "id": "a62678d5-ce94-4de1-9f46-d9a61bd0dce7"
      }
     }
    }
   },
   "themes": {
    "default": "1bfe98ae-0403-493e-81a2-87037d5a6388",
    "theme": {
     "1bfe98ae-0403-493e-81a2-87037d5a6388": {
      "id": "1bfe98ae-0403-493e-81a2-87037d5a6388",
      "palette": {
       "19cc588f-0593-49c9-9f4b-e4d7cc113b1c": {
        "id": "19cc588f-0593-49c9-9f4b-e4d7cc113b1c",
        "rgb": [
         252,
         252,
         252
        ]
       },
       "31af15d2-7e15-44c5-ab5e-e04b16a89eff": {
        "id": "31af15d2-7e15-44c5-ab5e-e04b16a89eff",
        "rgb": [
         68,
         68,
         68
        ]
       },
       "50f92c45-a630-455b-aec3-788680ec7410": {
        "id": "50f92c45-a630-455b-aec3-788680ec7410",
        "rgb": [
         155,
         177,
         192
        ]
       },
       "c5cc3653-2ee1-402a-aba2-7caae1da4f6c": {
        "id": "c5cc3653-2ee1-402a-aba2-7caae1da4f6c",
        "rgb": [
         43,
         126,
         184
        ]
       },
       "efa7f048-9acb-414c-8b04-a26811511a21": {
        "id": "efa7f048-9acb-414c-8b04-a26811511a21",
        "rgb": [
         25.118061674008803,
         73.60176211453744,
         107.4819383259912
        ]
       }
      },
      "rules": {
       "blockquote": {
        "color": "50f92c45-a630-455b-aec3-788680ec7410"
       },
       "code": {
        "font-family": "Anonymous Pro"
       },
       "h1": {
        "color": "c5cc3653-2ee1-402a-aba2-7caae1da4f6c",
        "font-family": "Lato",
        "font-size": 8
       },
       "h2": {
        "color": "c5cc3653-2ee1-402a-aba2-7caae1da4f6c",
        "font-family": "Lato",
        "font-size": 6
       },
       "h3": {
        "color": "50f92c45-a630-455b-aec3-788680ec7410",
        "font-family": "Lato",
        "font-size": 5.5
       },
       "h4": {
        "color": "c5cc3653-2ee1-402a-aba2-7caae1da4f6c",
        "font-family": "Lato",
        "font-size": 5
       },
       "h5": {
        "font-family": "Lato"
       },
       "h6": {
        "font-family": "Lato"
       },
       "h7": {
        "font-family": "Lato"
       },
       "pre": {
        "font-family": "Anonymous Pro",
        "font-size": 4
       }
      },
      "text-base": {
       "font-family": "Merriweather",
       "font-size": 4
      }
     },
     "7526965b-9604-4190-81a9-584faf8d8fae": {
      "backgrounds": {
       "backgroundColor": {
        "background-color": "backgroundColor",
        "id": "backgroundColor"
       }
      },
      "id": "7526965b-9604-4190-81a9-584faf8d8fae",
      "palette": {
       "backgroundColor": {
        "id": "backgroundColor",
        "rgb": [
         43,
         43,
         43
        ]
       },
       "headingColor": {
        "id": "headingColor",
        "rgb": [
         238,
         238,
         238
        ]
       },
       "linkColor": {
        "id": "linkColor",
        "rgb": [
         19,
         218,
         236
        ]
       },
       "mainColor": {
        "id": "mainColor",
        "rgb": [
         238,
         238,
         238
        ]
       }
      },
      "rules": {
       "a": {
        "color": "linkColor"
       },
       "h1": {
        "color": "headingColor",
        "font-family": "Oswald",
        "font-size": 7
       },
       "h2": {
        "color": "headingColor",
        "font-family": "Oswald",
        "font-size": 5
       },
       "h3": {
        "color": "headingColor",
        "font-family": "Oswald",
        "font-size": 3.75
       },
       "h4": {
        "color": "headingColor",
        "font-family": "Oswald",
        "font-size": 3
       },
       "h5": {
        "color": "headingColor",
        "font-family": "Oswald"
       },
       "h6": {
        "color": "headingColor",
        "font-family": "Oswald"
       },
       "h7": {
        "color": "headingColor",
        "font-family": "Oswald"
       },
       "li": {
        "color": "mainColor",
        "font-family": "Lato",
        "font-size": 5
       },
       "p": {
        "color": "mainColor",
        "font-family": "Lato",
        "font-size": 5
       }
      },
      "text-base": {
       "color": "mainColor",
       "font-family": "Lato",
       "font-size": 5
      }
     },
     "9cf4ac30-3870-4f03-be86-0b52c35e1f0c": {
      "backgrounds": {
       "backgroundColor": {
        "background-color": "backgroundColor",
        "id": "backgroundColor"
       }
      },
      "id": "9cf4ac30-3870-4f03-be86-0b52c35e1f0c",
      "palette": {
       "backgroundColor": {
        "id": "backgroundColor",
        "rgb": [
         17,
         17,
         17
        ]
       },
       "headingColor": {
        "id": "headingColor",
        "rgb": [
         238,
         238,
         238
        ]
       },
       "linkColor": {
        "id": "linkColor",
        "rgb": [
         231,
         173,
         82
        ]
       },
       "mainColor": {
        "id": "mainColor",
        "rgb": [
         238,
         238,
         238
        ]
       }
      },
      "rules": {
       "a": {
        "color": "linkColor"
       },
       "h1": {
        "color": "headingColor",
        "font-family": "Montserrat",
        "font-size": 7
       },
       "h2": {
        "color": "headingColor",
        "font-family": "Montserrat",
        "font-size": 5
       },
       "h3": {
        "color": "headingColor",
        "font-family": "Montserrat",
        "font-size": 3.75
       },
       "h4": {
        "color": "headingColor",
        "font-family": "Montserrat",
        "font-size": 3
       },
       "h5": {
        "color": "headingColor",
        "font-family": "Montserrat"
       },
       "h6": {
        "color": "headingColor",
        "font-family": "Montserrat"
       },
       "h7": {
        "color": "headingColor",
        "font-family": "Montserrat"
       },
       "li": {
        "color": "mainColor",
        "font-family": "Open Sans",
        "font-size": 4
       },
       "p": {
        "color": "mainColor",
        "font-family": "Open Sans",
        "font-size": 4
       }
      },
      "text-base": {
       "color": "mainColor",
       "font-family": "Open Sans",
       "font-size": 4
      }
     },
     "c32f8b39-0eb6-468f-bb07-b6ad0f8536e7": {
      "backgrounds": {
       "backgroundColor": {
        "background-color": "backgroundColor",
        "id": "backgroundColor"
       }
      },
      "id": "c32f8b39-0eb6-468f-bb07-b6ad0f8536e7",
      "palette": {
       "backgroundColor": {
        "id": "backgroundColor",
        "rgb": [
         0,
         43,
         54
        ]
       },
       "headingColor": {
        "id": "headingColor",
        "rgb": [
         238,
         232,
         213
        ]
       },
       "linkColor": {
        "id": "linkColor",
        "rgb": [
         38,
         139,
         210
        ]
       },
       "mainColor": {
        "id": "mainColor",
        "rgb": [
         147,
         161,
         161
        ]
       }
      },
      "rules": {
       "a": {
        "color": "linkColor"
       },
       "h1": {
        "color": "headingColor",
        "font-family": "Oswald",
        "font-size": 7
       },
       "h2": {
        "color": "headingColor",
        "font-family": "Oswald",
        "font-size": 5
       },
       "h3": {
        "color": "headingColor",
        "font-family": "Oswald",
        "font-size": 3.75
       },
       "h4": {
        "color": "headingColor",
        "font-family": "Oswald",
        "font-size": 3
       },
       "h5": {
        "color": "headingColor",
        "font-family": "Oswald"
       },
       "h6": {
        "color": "headingColor",
        "font-family": "Oswald"
       },
       "h7": {
        "color": "headingColor",
        "font-family": "Oswald"
       },
       "li": {
        "color": "mainColor",
        "font-family": "Lato",
        "font-size": 5
       },
       "p": {
        "color": "mainColor",
        "font-family": "Lato",
        "font-size": 5
       }
      },
      "text-base": {
       "color": "mainColor",
       "font-family": "Lato",
       "font-size": 5
      }
     }
    }
   }
  }
 },
 "nbformat": 4,
 "nbformat_minor": 1
}
